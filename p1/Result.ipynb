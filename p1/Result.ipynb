{
 "cells": [
  {
   "cell_type": "code",
   "execution_count": 1,
   "metadata": {},
   "outputs": [
    {
     "name": "stderr",
     "output_type": "stream",
     "text": [
      "INFO:unityagents:\n",
      "'Academy' started successfully!\n",
      "Unity Academy name: Academy\n",
      "        Number of Brains: 1\n",
      "        Number of External Brains : 1\n",
      "        Lesson number : 0\n",
      "        Reset Parameters :\n",
      "\t\t\n",
      "Unity brain name: BananaBrain\n",
      "        Number of Visual Observations (per agent): 0\n",
      "        Vector Observation space type: continuous\n",
      "        Vector Observation space size (per agent): 37\n",
      "        Number of stacked Vector Observation: 1\n",
      "        Vector Action space type: discrete\n",
      "        Vector Action space size (per agent): 4\n",
      "        Vector Action descriptions: , , , \n"
     ]
    }
   ],
   "source": [
    "from unityagents import UnityEnvironment\n",
    "import numpy as np\n",
    "import time\n",
    "from dqn_agent import Agent\n",
    "import torch\n",
    "\n",
    "# NOTE: you should change the path based on your platform\n",
    "env = UnityEnvironment(file_name=\"Banana_Linux/Banana.x86_64\", base_port=5006)\n",
    "\n",
    "# get the default brain\n",
    "brain_name = env.brain_names[0]\n",
    "brain = env.brains[brain_name]"
   ]
  },
  {
   "cell_type": "code",
   "execution_count": 2,
   "metadata": {},
   "outputs": [],
   "source": [
    "class GymEnvWrapper:\n",
    "    \"\"\" Wrap an Unity Environment to provide the familiar OpenGym interface \"\"\"\n",
    "    def __init__(self, unity_env, brain_name):\n",
    "        self.unity_env = unity_env\n",
    "        self.brain_name = brain_name\n",
    "    def reset(self):\n",
    "        env_info = self.unity_env.reset(train_mode=False)[self.brain_name]\n",
    "        return env_info.vector_observations[0]\n",
    "    def step(self, action):\n",
    "        env_info = self.unity_env.step(action)[self.brain_name]\n",
    "        next_state = env_info.vector_observations[0]\n",
    "        reward = env_info.rewards[0]\n",
    "        done = env_info.local_done[0]\n",
    "        return next_state, reward, done, {}\n",
    "\n",
    "gym_env = GymEnvWrapper(env, brain_name)"
   ]
  },
  {
   "cell_type": "code",
   "execution_count": 3,
   "metadata": {},
   "outputs": [
    {
     "data": {
      "text/plain": [
       "<All keys matched successfully>"
      ]
     },
     "execution_count": 3,
     "metadata": {},
     "output_type": "execute_result"
    }
   ],
   "source": [
    "state_size = 37\n",
    "action_size = 4\n",
    "agent = Agent(state_size, action_size, seed=17)\n",
    "agent.qnetwork_local.load_state_dict(torch.load('models/decay_0.99.pth'))"
   ]
  },
  {
   "cell_type": "code",
   "execution_count": 4,
   "metadata": {},
   "outputs": [
    {
     "name": "stdout",
     "output_type": "stream",
     "text": [
      "Score: 12.0\n"
     ]
    }
   ],
   "source": [
    "state = gym_env.reset()\n",
    "score = 0\n",
    "\n",
    "while True:\n",
    "    action = agent.act(state, 0)\n",
    "    state, reward, done, _ = gym_env.step(action)\n",
    "    score += reward\n",
    "    if done:\n",
    "        break\n",
    "    time.sleep(0.05)\n",
    "    \n",
    "print(\"Score: {}\".format(score))"
   ]
  },
  {
   "cell_type": "code",
   "execution_count": 5,
   "metadata": {},
   "outputs": [],
   "source": [
    "env.close()"
   ]
  }
 ],
 "metadata": {
  "kernelspec": {
   "display_name": "Python 3",
   "language": "python",
   "name": "python3"
  },
  "language_info": {
   "codemirror_mode": {
    "name": "ipython",
    "version": 3
   },
   "file_extension": ".py",
   "mimetype": "text/x-python",
   "name": "python",
   "nbconvert_exporter": "python",
   "pygments_lexer": "ipython3",
   "version": "3.6.9"
  }
 },
 "nbformat": 4,
 "nbformat_minor": 2
}
